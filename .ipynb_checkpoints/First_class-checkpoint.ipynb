{
 "cells": [
  {
   "cell_type": "code",
   "execution_count": 22,
   "metadata": {},
   "outputs": [
    {
     "name": "stdout",
     "output_type": "stream",
     "text": [
      "MY STRING\n",
      "my string\n",
      "My string\n"
     ]
    }
   ],
   "source": [
    "my_string = 'MY STRING'\n",
    "\n",
    "print(my_string.upper())\n",
    "print(my_string.lower())\n",
    "print(my_string.capitalize())\n",
    "\n",
    "\n",
    "\n",
    "\n",
    "\n"
   ]
  },
  {
   "cell_type": "code",
   "execution_count": 46,
   "metadata": {},
   "outputs": [
    {
     "name": "stdout",
     "output_type": "stream",
     "text": [
      "This is my string\n",
      "is my\n"
     ]
    }
   ],
   "source": [
    "mydata = 'This is my string'\n",
    "word1, word2, word3, word4  =  mydata.split(' ')\n",
    "total = f'{word1} {word2} {word3} {word4}'\n",
    "print(total)\n",
    "print(total[5:10])\n"
   ]
  },
  {
   "cell_type": "code",
   "execution_count": 50,
   "metadata": {},
   "outputs": [
    {
     "name": "stdout",
     "output_type": "stream",
     "text": [
      "This is my string\n"
     ]
    }
   ],
   "source": [
    "my_string = 'this is my string '\n",
    "print(my_string.strip().capitalize())\n"
   ]
  },
  {
   "cell_type": "code",
   "execution_count": 53,
   "metadata": {},
   "outputs": [
    {
     "name": "stdout",
     "output_type": "stream",
     "text": [
      "This is my string\n"
     ]
    }
   ],
   "source": [
    "my_string = 'This-is-my-string'\n",
    "print(my_string.replace('-', ' '))"
   ]
  },
  {
   "cell_type": "code",
   "execution_count": null,
   "metadata": {},
   "outputs": [
    {
     "name": "stdout",
     "output_type": "stream",
     "text": [
      "[master 0c96a54] example class\n",
      " 2 files changed, 126 insertions(+)\n",
      " create mode 100644 .ipynb_checkpoints/First_class-checkpoint.ipynb\n",
      " create mode 100644 First_class.ipynb\n",
      "Username for 'https://github.com': "
     ]
    }
   ],
   "source": [
    "! git add . && git commit -m 'example class' && git push origin master"
   ]
  },
  {
   "cell_type": "code",
   "execution_count": null,
   "metadata": {},
   "outputs": [],
   "source": []
  }
 ],
 "metadata": {
  "kernelspec": {
   "display_name": "Python 3",
   "language": "python",
   "name": "python3"
  },
  "language_info": {
   "codemirror_mode": {
    "name": "ipython",
    "version": 3
   },
   "file_extension": ".py",
   "mimetype": "text/x-python",
   "name": "python",
   "nbconvert_exporter": "python",
   "pygments_lexer": "ipython3",
   "version": "3.6.5"
  }
 },
 "nbformat": 4,
 "nbformat_minor": 2
}
