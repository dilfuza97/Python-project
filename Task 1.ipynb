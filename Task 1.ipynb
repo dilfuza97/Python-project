{
 "cells": [
  {
   "cell_type": "code",
   "execution_count": 1,
   "metadata": {},
   "outputs": [
    {
     "name": "stdout",
     "output_type": "stream",
     "text": [
      "This is my string type variable.\n"
     ]
    }
   ],
   "source": [
    "my_string = 'This is my string type variable.'\n",
    "print(my_string)"
   ]
  },
  {
   "cell_type": "code",
   "execution_count": 2,
   "metadata": {},
   "outputs": [
    {
     "name": "stdout",
     "output_type": "stream",
     "text": [
      "['This ', 'ring type variable.']\n"
     ]
    }
   ],
   "source": [
    "my_string = 'This is my string type variable.'\n",
    "my_cuted_string = my_string.split('is my st')\n",
    "\n",
    "print(my_cuted_string)"
   ]
  },
  {
   "cell_type": "code",
   "execution_count": 3,
   "metadata": {},
   "outputs": [
    {
     "name": "stdout",
     "output_type": "stream",
     "text": [
      "22\n"
     ]
    }
   ],
   "source": [
    "my_integar = 1997\n",
    "now = 2019\n",
    "my_age = now - my_integar\n",
    "\n",
    "print(my_age)"
   ]
  },
  {
   "cell_type": "code",
   "execution_count": 4,
   "metadata": {},
   "outputs": [
    {
     "name": "stdout",
     "output_type": "stream",
     "text": [
      "My name is Dilfuza and i am 22\n"
     ]
    }
   ],
   "source": [
    "my_integar = 1997\n",
    "now = 2019\n",
    "my_age = now - my_integar\n",
    "my_name = 'Dilfuza'\n",
    "\n",
    "print(f'My name is {my_name} and i am {my_age}')"
   ]
  },
  {
   "cell_type": "code",
   "execution_count": 5,
   "metadata": {},
   "outputs": [
    {
     "name": "stdout",
     "output_type": "stream",
     "text": [
      "['Abdul', 'Anna', 'Madina']\n"
     ]
    }
   ],
   "source": [
    "my_users = ['Abdul']\n",
    "my_users.append('Anna')\n",
    "my_users.append('Madina')\n",
    "\n",
    "print(my_users)"
   ]
  },
  {
   "cell_type": "code",
   "execution_count": 6,
   "metadata": {},
   "outputs": [
    {
     "name": "stdout",
     "output_type": "stream",
     "text": [
      "['Abdul', 'Anna', 'Sara', 'Madina']\n"
     ]
    }
   ],
   "source": [
    "my_users = ['Abdul']\n",
    "my_users.append('Anna')\n",
    "my_users.append('Madina')\n",
    "my_users.insert(2, 'Sara')\n",
    "\n",
    "print(my_users)"
   ]
  },
  {
   "cell_type": "code",
   "execution_count": 7,
   "metadata": {},
   "outputs": [
    {
     "data": {
      "text/plain": [
       "True"
      ]
     },
     "execution_count": 7,
     "metadata": {},
     "output_type": "execute_result"
    }
   ],
   "source": [
    "y_users = ['Abdul']\n",
    "my_users.append('Anna')\n",
    "my_users.append('Madina')\n",
    "my_users.insert(2, 'Sara')\n",
    "\n",
    "my_users[2] is 'Sara'"
   ]
  },
  {
   "cell_type": "code",
   "execution_count": null,
   "metadata": {},
   "outputs": [],
   "source": []
  }
 ],
 "metadata": {
  "kernelspec": {
   "display_name": "Python 3",
   "language": "python",
   "name": "python3"
  },
  "language_info": {
   "codemirror_mode": {
    "name": "ipython",
    "version": 3
   },
   "file_extension": ".py",
   "mimetype": "text/x-python",
   "name": "python",
   "nbconvert_exporter": "python",
   "pygments_lexer": "ipython3",
   "version": "3.6.5"
  }
 },
 "nbformat": 4,
 "nbformat_minor": 2
}
